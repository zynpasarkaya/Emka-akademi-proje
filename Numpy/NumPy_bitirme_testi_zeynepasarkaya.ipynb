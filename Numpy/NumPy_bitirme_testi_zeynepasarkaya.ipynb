{
  "cells": [
    {
      "cell_type": "markdown",
      "metadata": {
        "id": "XW8yHj0xQBj_"
      },
      "source": [
        "# NumPy Exercises\n",
        "\n",
        "Bu zamana kadar gördüğümüz konularla alakalı bilgilerimizi test edelim\n",
        "\n",
        "<div class=\"alert alert-danger\" style=\"margin: 10px\"><strong>Uyarı!</strong> Output'un üstündeki kod hücrelerini çalıştırmayın !, <br>Aksi takdirde notebooktaki cevap outputlarını kaybedebilirsiniz!</div>"
      ]
    },
    {
      "cell_type": "markdown",
      "metadata": {
        "id": "BQJQgAO5QBkY"
      },
      "source": [
        "#### 1. NumPy kütüphanesi np kısaltması ile import edin"
      ]
    },
    {
      "cell_type": "code",
      "execution_count": 1,
      "metadata": {
        "collapsed": true,
        "id": "2SKRWTohQBka"
      },
      "outputs": [],
      "source": [
        "import numpy as np"
      ]
    },
    {
      "cell_type": "markdown",
      "metadata": {
        "id": "LSp-wcQqQBkb"
      },
      "source": [
        "#### 2. 10 tane 0 değerinden oluşan bir array oluşturun"
      ]
    },
    {
      "cell_type": "code",
      "execution_count": 4,
      "metadata": {
        "collapsed": true,
        "colab": {
          "base_uri": "https://localhost:8080/"
        },
        "id": "jWV0iPqHQBkc",
        "outputId": "06a84075-f8af-4d4e-dfa2-0c64b6c4f370"
      },
      "outputs": [
        {
          "output_type": "execute_result",
          "data": {
            "text/plain": [
              "array([0, 0, 0, 0, 0, 0, 0, 0, 0, 0])"
            ]
          },
          "metadata": {},
          "execution_count": 4
        }
      ],
      "source": [
        "# Kodlarını buraya yaz\n",
        "np.zeros(10,dtype=int)"
      ]
    },
    {
      "cell_type": "code",
      "execution_count": null,
      "metadata": {
        "id": "WOfXqmJfQBkd",
        "outputId": "bb96c941-d8dd-44f7-841d-6a5207578bc6"
      },
      "outputs": [
        {
          "data": {
            "text/plain": [
              "array([0., 0., 0., 0., 0., 0., 0., 0., 0., 0.])"
            ]
          },
          "execution_count": 2,
          "metadata": {},
          "output_type": "execute_result"
        }
      ],
      "source": [
        "# Bu hücreye kod yazıp çalıştırma !"
      ]
    },
    {
      "cell_type": "markdown",
      "metadata": {
        "id": "mmGeZ4o-QBkf"
      },
      "source": [
        "#### 3. 10 tane 1 değerinden oluşan bir array oluşturun"
      ]
    },
    {
      "cell_type": "code",
      "execution_count": 3,
      "metadata": {
        "collapsed": true,
        "colab": {
          "base_uri": "https://localhost:8080/"
        },
        "id": "MCP2Rz2OQBkf",
        "outputId": "f6424bd3-b013-47ad-b449-b9f489c80799"
      },
      "outputs": [
        {
          "output_type": "execute_result",
          "data": {
            "text/plain": [
              "array([1, 1, 1, 1, 1, 1, 1, 1, 1, 1])"
            ]
          },
          "metadata": {},
          "execution_count": 3
        }
      ],
      "source": [
        "np.ones(10, dtype=int)"
      ]
    },
    {
      "cell_type": "code",
      "execution_count": null,
      "metadata": {
        "id": "yWSUMx3UQBkg",
        "outputId": "e206574a-0bc5-471c-a9c7-1c98d0c35380"
      },
      "outputs": [
        {
          "data": {
            "text/plain": [
              "array([1., 1., 1., 1., 1., 1., 1., 1., 1., 1.])"
            ]
          },
          "execution_count": 3,
          "metadata": {},
          "output_type": "execute_result"
        }
      ],
      "source": [
        "# Bu hücreye kod yazıp çalıştırma !"
      ]
    },
    {
      "cell_type": "markdown",
      "metadata": {
        "id": "X8QDiN8_QBkg"
      },
      "source": [
        "#### 4. 10 tane 5 değerinden oluşan bir array oluşturun"
      ]
    },
    {
      "cell_type": "code",
      "execution_count": 6,
      "metadata": {
        "collapsed": true,
        "colab": {
          "base_uri": "https://localhost:8080/"
        },
        "id": "As_QVQHjQBkg",
        "outputId": "dd5eac61-5cc3-4efb-9d7c-78e0c3bbf890"
      },
      "outputs": [
        {
          "output_type": "execute_result",
          "data": {
            "text/plain": [
              "array([5, 5, 5, 5, 5, 5, 5, 5, 5, 5])"
            ]
          },
          "metadata": {},
          "execution_count": 6
        }
      ],
      "source": [
        "np.array([5]*10)"
      ]
    },
    {
      "cell_type": "code",
      "execution_count": null,
      "metadata": {
        "id": "gN9MDdNpQBkh",
        "outputId": "8bc4d634-0ab3-4806-ed29-d922ae9725be"
      },
      "outputs": [
        {
          "data": {
            "text/plain": [
              "array([5., 5., 5., 5., 5., 5., 5., 5., 5., 5.])"
            ]
          },
          "execution_count": 4,
          "metadata": {},
          "output_type": "execute_result"
        }
      ],
      "source": [
        "# Bu hücreye kod yazıp çalıştırma !"
      ]
    },
    {
      "cell_type": "markdown",
      "metadata": {
        "id": "xLmmnupRQBkh"
      },
      "source": [
        "#### 5. 10'dan 50'ye kadar(10 ve 50 dahil) ardışık tam sayılardan oluşan bir array oluşturalım"
      ]
    },
    {
      "cell_type": "code",
      "execution_count": 8,
      "metadata": {
        "collapsed": true,
        "colab": {
          "base_uri": "https://localhost:8080/"
        },
        "id": "uy4Y750CQBkh",
        "outputId": "93c62d8c-ae73-42d4-8418-e5ad702facff"
      },
      "outputs": [
        {
          "output_type": "execute_result",
          "data": {
            "text/plain": [
              "array([10, 11, 12, 13, 14, 15, 16, 17, 18, 19, 20, 21, 22, 23, 24, 25, 26,\n",
              "       27, 28, 29, 30, 31, 32, 33, 34, 35, 36, 37, 38, 39, 40, 41, 42, 43,\n",
              "       44, 45, 46, 47, 48, 49, 50])"
            ]
          },
          "metadata": {},
          "execution_count": 8
        }
      ],
      "source": [
        "np.arange(10,51)"
      ]
    },
    {
      "cell_type": "code",
      "execution_count": null,
      "metadata": {
        "id": "GX4y0SAMQBkh",
        "outputId": "7649aec7-9e3e-430e-b054-d2725299f161"
      },
      "outputs": [
        {
          "data": {
            "text/plain": [
              "array([10, 11, 12, 13, 14, 15, 16, 17, 18, 19, 20, 21, 22, 23, 24, 25, 26,\n",
              "       27, 28, 29, 30, 31, 32, 33, 34, 35, 36, 37, 38, 39, 40, 41, 42, 43,\n",
              "       44, 45, 46, 47, 48, 49, 50])"
            ]
          },
          "execution_count": 5,
          "metadata": {},
          "output_type": "execute_result"
        }
      ],
      "source": [
        "# Bu hücreye kod yazıp çalıştırma !"
      ]
    },
    {
      "cell_type": "markdown",
      "metadata": {
        "id": "VhKBzan4QBki"
      },
      "source": [
        "#### 6. 10 ve 50 arasındaki çift tam sayılardan oluşan bir array oluşturalım. (10 ve 50 dahil)"
      ]
    },
    {
      "cell_type": "code",
      "execution_count": 9,
      "metadata": {
        "collapsed": true,
        "colab": {
          "base_uri": "https://localhost:8080/"
        },
        "id": "YdOGnSNtQBki",
        "outputId": "b9db5886-e6a2-467d-e4de-1db6a615b578"
      },
      "outputs": [
        {
          "output_type": "execute_result",
          "data": {
            "text/plain": [
              "array([10, 12, 14, 16, 18, 20, 22, 24, 26, 28, 30, 32, 34, 36, 38, 40, 42,\n",
              "       44, 46, 48])"
            ]
          },
          "metadata": {},
          "execution_count": 9
        }
      ],
      "source": [
        "np.arange(10,50,2)"
      ]
    },
    {
      "cell_type": "code",
      "execution_count": null,
      "metadata": {
        "id": "tCyxAXkvQBki",
        "outputId": "d0afc683-301e-4af7-81ac-d197b4eb0991"
      },
      "outputs": [
        {
          "data": {
            "text/plain": [
              "array([10, 12, 14, 16, 18, 20, 22, 24, 26, 28, 30, 32, 34, 36, 38, 40, 42,\n",
              "       44, 46, 48, 50])"
            ]
          },
          "execution_count": 6,
          "metadata": {},
          "output_type": "execute_result"
        }
      ],
      "source": [
        "# Bu hücreye kod yazıp çalıştırma !"
      ]
    },
    {
      "cell_type": "markdown",
      "metadata": {
        "id": "K4jNeeoqQBki"
      },
      "source": [
        "#### 7. 3x3 shape'inde 0'dan 8'e kadar toplam 9 tam sayıdan oluşan bir array oluşturalım"
      ]
    },
    {
      "cell_type": "code",
      "execution_count": 11,
      "metadata": {
        "collapsed": true,
        "colab": {
          "base_uri": "https://localhost:8080/"
        },
        "id": "72gJ38FBQBki",
        "outputId": "1c195b52-8edd-43d7-8c0e-a59b8a547686"
      },
      "outputs": [
        {
          "output_type": "execute_result",
          "data": {
            "text/plain": [
              "array([[0, 1, 2],\n",
              "       [3, 4, 5],\n",
              "       [6, 7, 8]])"
            ]
          },
          "metadata": {},
          "execution_count": 11
        }
      ],
      "source": [
        "np.arange(0,9).reshape(3,3)"
      ]
    },
    {
      "cell_type": "code",
      "execution_count": null,
      "metadata": {
        "id": "UcXIQ6HGQBkj",
        "outputId": "4c78d6c8-5ed0-4dc6-e5c2-87c54c93c609"
      },
      "outputs": [
        {
          "data": {
            "text/plain": [
              "array([[0, 1, 2],\n",
              "       [3, 4, 5],\n",
              "       [6, 7, 8]])"
            ]
          },
          "execution_count": 7,
          "metadata": {},
          "output_type": "execute_result"
        }
      ],
      "source": [
        "# Bu hücreye kod yazıp çalıştırma !"
      ]
    },
    {
      "cell_type": "markdown",
      "metadata": {
        "id": "m0-xgYkBQBkj"
      },
      "source": [
        "#### 8. 3x3 boyutlarında birim matris oluşturun"
      ]
    },
    {
      "cell_type": "code",
      "execution_count": 12,
      "metadata": {
        "collapsed": true,
        "colab": {
          "base_uri": "https://localhost:8080/"
        },
        "id": "DMeopOUXQBkj",
        "outputId": "c48d1814-7804-40bc-db87-b0ae30538df3"
      },
      "outputs": [
        {
          "output_type": "execute_result",
          "data": {
            "text/plain": [
              "array([[1, 0, 0],\n",
              "       [0, 1, 0],\n",
              "       [0, 0, 1]])"
            ]
          },
          "metadata": {},
          "execution_count": 12
        }
      ],
      "source": [
        "np.eye(3, dtype=int)"
      ]
    },
    {
      "cell_type": "code",
      "execution_count": null,
      "metadata": {
        "id": "2-hZg3M_QBkj",
        "outputId": "227d12dd-a35f-4d95-9425-97b8d2a932f5"
      },
      "outputs": [
        {
          "data": {
            "text/plain": [
              "array([[1., 0., 0.],\n",
              "       [0., 1., 0.],\n",
              "       [0., 0., 1.]])"
            ]
          },
          "execution_count": 8,
          "metadata": {},
          "output_type": "execute_result"
        }
      ],
      "source": [
        "# Bu hücreye kod yazıp çalıştırma !"
      ]
    },
    {
      "cell_type": "markdown",
      "metadata": {
        "id": "W9xqAqEQQBkk"
      },
      "source": [
        "#### 9. NumPy kullanarak 0-1 arasından rastgele bir sayı oluşturun. <br><br>&emsp;NOT: Değerler random seçildiği için sizin sonucunuz aşağıdaki çıktıdan farklı olacaktır"
      ]
    },
    {
      "cell_type": "code",
      "execution_count": 14,
      "metadata": {
        "collapsed": true,
        "colab": {
          "base_uri": "https://localhost:8080/"
        },
        "id": "-B8KXReXQBkk",
        "outputId": "94dae1bf-d076-4f1a-bc53-f62f540105d6"
      },
      "outputs": [
        {
          "output_type": "execute_result",
          "data": {
            "text/plain": [
              "array([0.74350927])"
            ]
          },
          "metadata": {},
          "execution_count": 14
        }
      ],
      "source": [
        "np.random.rand(1)"
      ]
    },
    {
      "cell_type": "code",
      "execution_count": null,
      "metadata": {
        "id": "4EXItwkvQBkk",
        "outputId": "f3d1a636-6cb5-489f-dd91-7c5211217942"
      },
      "outputs": [
        {
          "data": {
            "text/plain": [
              "array([0.65248055])"
            ]
          },
          "execution_count": 9,
          "metadata": {},
          "output_type": "execute_result"
        }
      ],
      "source": [
        "# Bu hücreye kod yazıp çalıştırma !"
      ]
    },
    {
      "cell_type": "markdown",
      "metadata": {
        "id": "AxXcRb0bQBkk"
      },
      "source": [
        "#### 10. NumPy kullanarak standart dağılıma sahip 25 random sayıdan oluşan bir array oluşturalım. <br><br>&emsp;&ensp;NOT: Sizin cevabınız aşağıdaki çıktıdan farklı olacaktır"
      ]
    },
    {
      "cell_type": "code",
      "execution_count": 15,
      "metadata": {
        "collapsed": true,
        "colab": {
          "base_uri": "https://localhost:8080/"
        },
        "id": "QztSnLI3QBkk",
        "outputId": "d2d0c70f-f276-4053-8132-59f602cd0e7c"
      },
      "outputs": [
        {
          "output_type": "execute_result",
          "data": {
            "text/plain": [
              "array([-0.79063633,  1.13543842, -1.42783252,  1.51805479, -0.60997728,\n",
              "        1.65558269,  0.94627094,  0.58004573, -0.68423549,  1.55804346,\n",
              "        0.88779264, -1.22884631,  1.42265062, -1.00777593,  0.52124692,\n",
              "        0.44941611, -1.03180487,  0.56915764, -0.2715692 ,  0.04014058,\n",
              "       -0.05276092, -0.31499116,  0.94684361, -1.06799125, -0.13672281])"
            ]
          },
          "metadata": {},
          "execution_count": 15
        }
      ],
      "source": [
        "np.random.normal(size=25)"
      ]
    },
    {
      "cell_type": "code",
      "execution_count": null,
      "metadata": {
        "id": "NYPEVtP_QBkl",
        "outputId": "a244f537-f03f-41e7-e2a7-f5653932debe"
      },
      "outputs": [
        {
          "data": {
            "text/plain": [
              "array([ 1.80076712, -1.12375847, -0.98524305,  0.11673573,  1.96346762,\n",
              "        1.81378592, -0.33790771,  0.85012656,  0.0100703 , -0.91005957,\n",
              "        0.29064366,  0.69906357,  0.1774377 , -0.61958694, -0.45498611,\n",
              "       -2.0804685 , -0.06778549,  1.06403819,  0.4311884 , -1.09853837,\n",
              "        1.11980469, -0.48751963,  1.32517611, -0.61775122, -0.00622865])"
            ]
          },
          "execution_count": 10,
          "metadata": {},
          "output_type": "execute_result"
        }
      ],
      "source": [
        "# Bu hücreye kod yazıp çalıştırma !"
      ]
    },
    {
      "cell_type": "markdown",
      "metadata": {
        "id": "yYTMzg4XQBkl"
      },
      "source": [
        "#### 11. Aşağıdaki çıktıdakine benzer array'i oluşturmaya çalışın"
      ]
    },
    {
      "cell_type": "code",
      "execution_count": 22,
      "metadata": {
        "collapsed": true,
        "id": "MRhVhuLXQBkl"
      },
      "outputs": [],
      "source": []
    },
    {
      "cell_type": "code",
      "execution_count": null,
      "metadata": {
        "id": "RgoDvMR1QBkl",
        "outputId": "85a6bab2-634b-4a0a-ebc9-1d7eb25f6d75"
      },
      "outputs": [
        {
          "data": {
            "text/plain": [
              "array([[0.01, 0.02, 0.03, 0.04, 0.05, 0.06, 0.07, 0.08, 0.09, 0.1 ],\n",
              "       [0.11, 0.12, 0.13, 0.14, 0.15, 0.16, 0.17, 0.18, 0.19, 0.2 ],\n",
              "       [0.21, 0.22, 0.23, 0.24, 0.25, 0.26, 0.27, 0.28, 0.29, 0.3 ],\n",
              "       [0.31, 0.32, 0.33, 0.34, 0.35, 0.36, 0.37, 0.38, 0.39, 0.4 ],\n",
              "       [0.41, 0.42, 0.43, 0.44, 0.45, 0.46, 0.47, 0.48, 0.49, 0.5 ],\n",
              "       [0.51, 0.52, 0.53, 0.54, 0.55, 0.56, 0.57, 0.58, 0.59, 0.6 ],\n",
              "       [0.61, 0.62, 0.63, 0.64, 0.65, 0.66, 0.67, 0.68, 0.69, 0.7 ],\n",
              "       [0.71, 0.72, 0.73, 0.74, 0.75, 0.76, 0.77, 0.78, 0.79, 0.8 ],\n",
              "       [0.81, 0.82, 0.83, 0.84, 0.85, 0.86, 0.87, 0.88, 0.89, 0.9 ],\n",
              "       [0.91, 0.92, 0.93, 0.94, 0.95, 0.96, 0.97, 0.98, 0.99, 1.  ]])"
            ]
          },
          "execution_count": 11,
          "metadata": {},
          "output_type": "execute_result"
        }
      ],
      "source": [
        "# Bu hücreye kod yazıp çalıştırma !"
      ]
    },
    {
      "cell_type": "markdown",
      "metadata": {
        "id": "NNeOIzmZQBkm"
      },
      "source": [
        "#### 12. 0-1 arasında lineer artış gösteren ve 20 sayıdan oluşan bir array oluşturun:"
      ]
    },
    {
      "cell_type": "code",
      "execution_count": 17,
      "metadata": {
        "collapsed": true,
        "colab": {
          "base_uri": "https://localhost:8080/"
        },
        "id": "9rnxlUoDQBkm",
        "outputId": "90361325-32c2-4832-de69-4ae8014c88fe"
      },
      "outputs": [
        {
          "output_type": "execute_result",
          "data": {
            "text/plain": [
              "array([0.        , 0.05263158, 0.10526316, 0.15789474, 0.21052632,\n",
              "       0.26315789, 0.31578947, 0.36842105, 0.42105263, 0.47368421,\n",
              "       0.52631579, 0.57894737, 0.63157895, 0.68421053, 0.73684211,\n",
              "       0.78947368, 0.84210526, 0.89473684, 0.94736842, 1.        ])"
            ]
          },
          "metadata": {},
          "execution_count": 17
        }
      ],
      "source": [
        "np.linspace(0,1,20)"
      ]
    },
    {
      "cell_type": "code",
      "execution_count": null,
      "metadata": {
        "id": "uX3sAHqYQBkm",
        "outputId": "64b8ee41-303c-4edb-d869-5f38e8b9ef05"
      },
      "outputs": [
        {
          "data": {
            "text/plain": [
              "array([0.        , 0.05263158, 0.10526316, 0.15789474, 0.21052632,\n",
              "       0.26315789, 0.31578947, 0.36842105, 0.42105263, 0.47368421,\n",
              "       0.52631579, 0.57894737, 0.63157895, 0.68421053, 0.73684211,\n",
              "       0.78947368, 0.84210526, 0.89473684, 0.94736842, 1.        ])"
            ]
          },
          "execution_count": 12,
          "metadata": {},
          "output_type": "execute_result"
        }
      ],
      "source": [
        "# Bu hücreye kod yazıp çalıştırma !"
      ]
    },
    {
      "cell_type": "markdown",
      "metadata": {
        "id": "4i2wyFqRQBkn"
      },
      "source": [
        "## NumPy Indexing and Selection\n",
        "\n",
        "Aşağıdaki matris sıradaki sorular için bizim başlangıç matrisimiz. (Aşağıdaki kod hücresini çalıştırarak devam edin.), devamında sorduğumuz soruları cevaplamaya çalışın:\n"
      ]
    },
    {
      "cell_type": "code",
      "execution_count": 23,
      "metadata": {
        "colab": {
          "base_uri": "https://localhost:8080/"
        },
        "id": "tGXlIVKAQBkn",
        "outputId": "b0160bd7-cf9f-4eba-a67e-b725f426c6d3"
      },
      "outputs": [
        {
          "output_type": "execute_result",
          "data": {
            "text/plain": [
              "array([[ 1,  2,  3,  4,  5],\n",
              "       [ 6,  7,  8,  9, 10],\n",
              "       [11, 12, 13, 14, 15],\n",
              "       [16, 17, 18, 19, 20],\n",
              "       [21, 22, 23, 24, 25]])"
            ]
          },
          "metadata": {},
          "execution_count": 23
        }
      ],
      "source": [
        "# RUN THIS CELL - THIS IS OUR STARTING MATRIX\n",
        "mat = np.arange(1,26).reshape(5,5)\n",
        "mat"
      ]
    },
    {
      "cell_type": "markdown",
      "metadata": {
        "id": "ME0LOR2mQBkn"
      },
      "source": [
        "#### 13. Aşağıda verilen matrisleri oluşturmaya çalışın.<br><br>&emsp;&ensp;Çıktıların üstündeki kod hücresini çalıştırmayın, aksi takdirde çıktıları göremezsiniz"
      ]
    },
    {
      "cell_type": "code",
      "execution_count": null,
      "metadata": {
        "collapsed": true,
        "id": "8bn_96a9QBko"
      },
      "outputs": [],
      "source": [
        "# Kodlarınızı buraya yazın"
      ]
    },
    {
      "cell_type": "code",
      "execution_count": null,
      "metadata": {
        "id": "I_jXPAFrQBko",
        "outputId": "3627a9c1-660e-4bb8-ea08-5a977f0a4590"
      },
      "outputs": [
        {
          "data": {
            "text/plain": [
              "array([[12, 13, 14, 15],\n",
              "       [17, 18, 19, 20],\n",
              "       [22, 23, 24, 25]])"
            ]
          },
          "execution_count": 14,
          "metadata": {},
          "output_type": "execute_result"
        }
      ],
      "source": [
        "# Bu hücreye kod yazıp çalıştırma !"
      ]
    },
    {
      "cell_type": "markdown",
      "metadata": {
        "id": "ZWzlAY0UQBko"
      },
      "source": [
        "#### 14. Write code that reproduces the output shown below."
      ]
    },
    {
      "cell_type": "code",
      "execution_count": null,
      "metadata": {
        "collapsed": true,
        "id": "EvzmCehaQBko"
      },
      "outputs": [],
      "source": []
    },
    {
      "cell_type": "code",
      "execution_count": null,
      "metadata": {
        "id": "g97su-NRQBko",
        "outputId": "19e1594d-0c55-4738-b93e-f0146c3b5a1f"
      },
      "outputs": [
        {
          "data": {
            "text/plain": [
              "20"
            ]
          },
          "execution_count": 15,
          "metadata": {},
          "output_type": "execute_result"
        }
      ],
      "source": [
        "# Bu hücreye kod yazıp çalıştırma !"
      ]
    },
    {
      "cell_type": "markdown",
      "metadata": {
        "id": "HJpuiOZKQBkp"
      },
      "source": [
        "#### 15. mat arrayini kullanarak aşağıdaki matris çıktısını verecek kodları oluşturun"
      ]
    },
    {
      "cell_type": "code",
      "execution_count": null,
      "metadata": {
        "collapsed": true,
        "id": "LnwM8YnGQBkp"
      },
      "outputs": [],
      "source": []
    },
    {
      "cell_type": "code",
      "execution_count": null,
      "metadata": {
        "id": "o1g6FklQQBkp",
        "outputId": "09bd0165-ad58-4aba-f44a-8a67851cc271"
      },
      "outputs": [
        {
          "data": {
            "text/plain": [
              "array([[ 2],\n",
              "       [ 7],\n",
              "       [12]])"
            ]
          },
          "execution_count": 16,
          "metadata": {},
          "output_type": "execute_result"
        }
      ],
      "source": [
        "# Bu hücreye kod yazıp çalıştırma !"
      ]
    },
    {
      "cell_type": "markdown",
      "metadata": {
        "id": "0wxqFDj3QBkp"
      },
      "source": [
        "#### 16. mat arrayini kullanarak aşağıdaki matris çıktısını verecek kodları oluşturun"
      ]
    },
    {
      "cell_type": "code",
      "execution_count": null,
      "metadata": {
        "collapsed": true,
        "id": "0SLmc93bQBkp"
      },
      "outputs": [],
      "source": []
    },
    {
      "cell_type": "code",
      "execution_count": null,
      "metadata": {
        "id": "BVrxNZDNQBkq",
        "outputId": "ed246d16-5435-4539-d995-0f37bd1656a5"
      },
      "outputs": [
        {
          "data": {
            "text/plain": [
              "array([21, 22, 23, 24, 25])"
            ]
          },
          "execution_count": 17,
          "metadata": {},
          "output_type": "execute_result"
        }
      ],
      "source": [
        "# Bu hücreye kod yazıp çalıştırma !"
      ]
    },
    {
      "cell_type": "markdown",
      "metadata": {
        "id": "gqYIqS4FQBkq"
      },
      "source": [
        "#### 17. mat arrayini kullanarak aşağıdaki matris çıktısını verecek kodları oluşturun"
      ]
    },
    {
      "cell_type": "code",
      "execution_count": null,
      "metadata": {
        "collapsed": true,
        "id": "fIurD_bhQBkq"
      },
      "outputs": [],
      "source": []
    },
    {
      "cell_type": "code",
      "execution_count": null,
      "metadata": {
        "id": "-gE8UZVTQBkq",
        "outputId": "3f665c78-aa88-4022-dbf5-9507c706089e"
      },
      "outputs": [
        {
          "data": {
            "text/plain": [
              "array([[16, 17, 18, 19, 20],\n",
              "       [21, 22, 23, 24, 25]])"
            ]
          },
          "execution_count": 18,
          "metadata": {},
          "output_type": "execute_result"
        }
      ],
      "source": [
        "# Bu hücreye kod yazıp çalıştırma !"
      ]
    },
    {
      "cell_type": "markdown",
      "metadata": {
        "id": "6D3C5wUCQBkq"
      },
      "source": [
        "## NumPy Operations"
      ]
    },
    {
      "cell_type": "markdown",
      "metadata": {
        "id": "72RbQ8sCQBkr"
      },
      "source": [
        "#### 18. Mat arrayindeki bütün değerlerin toplamını bulun"
      ]
    },
    {
      "cell_type": "code",
      "execution_count": 24,
      "metadata": {
        "collapsed": true,
        "colab": {
          "base_uri": "https://localhost:8080/"
        },
        "id": "aZDA2zB5QBkr",
        "outputId": "a23ff300-55b5-42f7-9926-51cf08beff38"
      },
      "outputs": [
        {
          "output_type": "execute_result",
          "data": {
            "text/plain": [
              "325"
            ]
          },
          "metadata": {},
          "execution_count": 24
        }
      ],
      "source": [
        "mat.sum()"
      ]
    },
    {
      "cell_type": "code",
      "execution_count": null,
      "metadata": {
        "id": "vmumCTzkQBkr",
        "outputId": "f3ca70ed-1619-41f3-d4b9-d2c401c75650"
      },
      "outputs": [
        {
          "data": {
            "text/plain": [
              "325"
            ]
          },
          "execution_count": 19,
          "metadata": {},
          "output_type": "execute_result"
        }
      ],
      "source": [
        "# Bu hücreye kod yazıp çalıştırma !"
      ]
    },
    {
      "cell_type": "markdown",
      "metadata": {
        "id": "9-yCZuATQBkr"
      },
      "source": [
        "#### 19. Mat arrayindeki değerlerin standart sapmasını bulun"
      ]
    },
    {
      "cell_type": "code",
      "execution_count": 25,
      "metadata": {
        "collapsed": true,
        "colab": {
          "base_uri": "https://localhost:8080/"
        },
        "id": "wv11R9nVQBkr",
        "outputId": "b05889f0-fc98-45bb-ff7c-43d8231b9cae"
      },
      "outputs": [
        {
          "output_type": "execute_result",
          "data": {
            "text/plain": [
              "7.211102550927978"
            ]
          },
          "metadata": {},
          "execution_count": 25
        }
      ],
      "source": [
        "mat.std()"
      ]
    },
    {
      "cell_type": "code",
      "execution_count": null,
      "metadata": {
        "id": "2Vn7tBZAQBkr",
        "outputId": "00c90deb-a86e-4c1d-959c-e79a8c27968b"
      },
      "outputs": [
        {
          "data": {
            "text/plain": [
              "7.211102550927978"
            ]
          },
          "execution_count": 20,
          "metadata": {},
          "output_type": "execute_result"
        }
      ],
      "source": [
        "# Bu hücreye kod yazıp çalıştırma !"
      ]
    },
    {
      "cell_type": "markdown",
      "metadata": {
        "id": "Ip6oDX49QBks"
      },
      "source": [
        "#### 20. Mat arrayindeki her sütunun kendi içinde toplamlarını bularak yeni bir array oluşturun"
      ]
    },
    {
      "cell_type": "code",
      "execution_count": 26,
      "metadata": {
        "collapsed": true,
        "colab": {
          "base_uri": "https://localhost:8080/"
        },
        "id": "WkqS53WUQBks",
        "outputId": "33b3e016-16a5-422d-ced5-5db9d99da5b4"
      },
      "outputs": [
        {
          "output_type": "execute_result",
          "data": {
            "text/plain": [
              "array([55, 60, 65, 70, 75])"
            ]
          },
          "metadata": {},
          "execution_count": 26
        }
      ],
      "source": [
        "np.sum(mat, axis=0)"
      ]
    },
    {
      "cell_type": "code",
      "execution_count": null,
      "metadata": {
        "id": "tBUEJrWHQBks",
        "outputId": "cc90736c-ee64-41e2-d21e-606dc3115e9c"
      },
      "outputs": [
        {
          "data": {
            "text/plain": [
              "array([55, 60, 65, 70, 75])"
            ]
          },
          "execution_count": 21,
          "metadata": {},
          "output_type": "execute_result"
        }
      ],
      "source": [
        "# Bu hücreye kod yazıp çalıştırma !"
      ]
    },
    {
      "cell_type": "markdown",
      "metadata": {
        "collapsed": true,
        "id": "aO_9NOIjQBks"
      },
      "source": [
        "# Tebrikler, NumPy temelleri öğrenilmiş!"
      ]
    }
  ],
  "metadata": {
    "anaconda-cloud": {},
    "kernelspec": {
      "display_name": "Python 3",
      "language": "python",
      "name": "python3"
    },
    "language_info": {
      "codemirror_mode": {
        "name": "ipython",
        "version": 3
      },
      "file_extension": ".py",
      "mimetype": "text/x-python",
      "name": "python",
      "nbconvert_exporter": "python",
      "pygments_lexer": "ipython3",
      "version": "3.10.10"
    },
    "colab": {
      "provenance": []
    }
  },
  "nbformat": 4,
  "nbformat_minor": 0
}