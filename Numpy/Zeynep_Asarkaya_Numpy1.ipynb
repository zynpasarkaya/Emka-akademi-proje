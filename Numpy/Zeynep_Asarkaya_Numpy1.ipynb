{
  "nbformat": 4,
  "nbformat_minor": 0,
  "metadata": {
    "colab": {
      "provenance": []
    },
    "kernelspec": {
      "name": "python3",
      "display_name": "Python 3"
    },
    "language_info": {
      "name": "python"
    }
  },
  "cells": [
    {
      "cell_type": "markdown",
      "source": [
        "1) Manuel değerleri el ile girerek 3 boyutlu bir array oluşturup bir değişkene atayın. Ardından 3 boyutlu olup olmadığına bakmak için dimension'ını kontrol edin"
      ],
      "metadata": {
        "id": "8greQ0QlntEr"
      }
    },
    {
      "cell_type": "code",
      "execution_count": 1,
      "metadata": {
        "id": "QuXLKO-KneNB"
      },
      "outputs": [],
      "source": [
        "import numpy as np\n"
      ]
    },
    {
      "cell_type": "code",
      "source": [
        "ars = np.array([[[1,2,3], [4,5,6]],[[9,8,4],[5,3,1]]])\n",
        "ars.ndim"
      ],
      "metadata": {
        "colab": {
          "base_uri": "https://localhost:8080/"
        },
        "id": "cLU2FIWZn2p-",
        "outputId": "0500a221-b328-44d3-ec65-50cc5d56736b"
      },
      "execution_count": 6,
      "outputs": [
        {
          "output_type": "execute_result",
          "data": {
            "text/plain": [
              "3"
            ]
          },
          "metadata": {},
          "execution_count": 6
        }
      ]
    },
    {
      "cell_type": "markdown",
      "source": [
        "2) 34, 40, 46, 52... 112 şeklinde devam eden 1 boyutlu bir array oluşturun"
      ],
      "metadata": {
        "id": "L3qAFMm-pYKW"
      }
    },
    {
      "cell_type": "code",
      "source": [
        "ars1 = np.arange(34,113,6)\n",
        "ars1"
      ],
      "metadata": {
        "colab": {
          "base_uri": "https://localhost:8080/"
        },
        "id": "bz1ORFoupigg",
        "outputId": "cbe48cae-4586-4919-e760-cc652a1c17ea"
      },
      "execution_count": 10,
      "outputs": [
        {
          "output_type": "execute_result",
          "data": {
            "text/plain": [
              "array([ 34,  40,  46,  52,  58,  64,  70,  76,  82,  88,  94, 100, 106,\n",
              "       112])"
            ]
          },
          "metadata": {},
          "execution_count": 10
        }
      ]
    },
    {
      "cell_type": "markdown",
      "source": [
        "3) 50-500 arasında lineer artış gösteren 91 tane tam sayıdan oluşan bir array oluşturun.(dtype'ı int olsun)"
      ],
      "metadata": {
        "id": "caay-QpyqQFy"
      }
    },
    {
      "cell_type": "code",
      "source": [
        "arli = np.linspace(50,500,91,dtype=int)\n",
        "arli"
      ],
      "metadata": {
        "colab": {
          "base_uri": "https://localhost:8080/"
        },
        "id": "kC37_a6SqVLg",
        "outputId": "aaab5c9d-4dd8-4fb0-931f-6c5ab73a70f8"
      },
      "execution_count": 13,
      "outputs": [
        {
          "output_type": "execute_result",
          "data": {
            "text/plain": [
              "array([ 50,  55,  60,  65,  70,  75,  80,  85,  90,  95, 100, 105, 110,\n",
              "       115, 120, 125, 130, 135, 140, 145, 150, 155, 160, 165, 170, 175,\n",
              "       180, 185, 190, 195, 200, 205, 210, 215, 220, 225, 230, 235, 240,\n",
              "       245, 250, 255, 260, 265, 270, 275, 280, 285, 290, 295, 300, 305,\n",
              "       310, 315, 320, 325, 330, 335, 340, 345, 350, 355, 360, 365, 370,\n",
              "       375, 380, 385, 390, 395, 400, 405, 410, 415, 420, 425, 430, 435,\n",
              "       440, 445, 450, 455, 460, 465, 470, 475, 480, 485, 490, 495, 500])"
            ]
          },
          "metadata": {},
          "execution_count": 13
        }
      ]
    },
    {
      "cell_type": "markdown",
      "source": [
        "4) 100(10**2) ile 10000(10**5) arasında logaritmik artış gösteren 8 sayıdan oluşan bir array oluşturun."
      ],
      "metadata": {
        "id": "snLd4H0nq2Uw"
      }
    },
    {
      "cell_type": "code",
      "source": [
        "arlog = np.logspace(2,5,8)\n",
        "arlog"
      ],
      "metadata": {
        "colab": {
          "base_uri": "https://localhost:8080/"
        },
        "id": "2niSkW_Rq76Y",
        "outputId": "2d639849-90f2-46e1-c4e5-0cad0c980574"
      },
      "execution_count": 16,
      "outputs": [
        {
          "output_type": "execute_result",
          "data": {
            "text/plain": [
              "array([   100.        ,    268.26957953,    719.685673  ,   1930.69772888,\n",
              "         5179.47467923,  13894.95494373,  37275.93720315, 100000.        ])"
            ]
          },
          "metadata": {},
          "execution_count": 16
        }
      ]
    },
    {
      "cell_type": "markdown",
      "source": [
        "5) 0-8 tam arasındaki ardışık tam sayılardan oluşan(0 ve 8 dahil toplam 9 değer) 3x3 shape'inde bir matris oluşturun."
      ],
      "metadata": {
        "id": "9lF383XirnP3"
      }
    },
    {
      "cell_type": "code",
      "source": [
        "np.random.randint(0,9 ,(3,3))\n"
      ],
      "metadata": {
        "colab": {
          "base_uri": "https://localhost:8080/"
        },
        "id": "od93Y7o7rsaX",
        "outputId": "4aaf6435-25f1-40f3-8a6f-3015037ed3d8"
      },
      "execution_count": 25,
      "outputs": [
        {
          "output_type": "execute_result",
          "data": {
            "text/plain": [
              "array([[3, 0, 4],\n",
              "       [2, 7, 2],\n",
              "       [3, 5, 5]])"
            ]
          },
          "metadata": {},
          "execution_count": 25
        }
      ]
    },
    {
      "cell_type": "markdown",
      "source": [
        "6) 6x6 formatında bir sıfır matrisi oluşturun. (dtype'ı int olsun)"
      ],
      "metadata": {
        "id": "269JsiXPtoQL"
      }
    },
    {
      "cell_type": "code",
      "source": [
        "np.zeros((6,6) ,dtype=int)"
      ],
      "metadata": {
        "colab": {
          "base_uri": "https://localhost:8080/"
        },
        "id": "hwY6KxgHtuBo",
        "outputId": "93375d61-2f7e-4045-e705-d6e2410418ee"
      },
      "execution_count": 30,
      "outputs": [
        {
          "output_type": "execute_result",
          "data": {
            "text/plain": [
              "array([[0, 0, 0, 0, 0, 0],\n",
              "       [0, 0, 0, 0, 0, 0],\n",
              "       [0, 0, 0, 0, 0, 0],\n",
              "       [0, 0, 0, 0, 0, 0],\n",
              "       [0, 0, 0, 0, 0, 0],\n",
              "       [0, 0, 0, 0, 0, 0]])"
            ]
          },
          "metadata": {},
          "execution_count": 30
        }
      ]
    },
    {
      "cell_type": "markdown",
      "source": [
        "7) 4x4 formatında bir bir matrisi oluşturun. (dtype'ı int olsun)"
      ],
      "metadata": {
        "id": "9tpCbbjCuO_H"
      }
    },
    {
      "cell_type": "code",
      "source": [
        "np.ones((4,4), dtype=int)"
      ],
      "metadata": {
        "colab": {
          "base_uri": "https://localhost:8080/"
        },
        "id": "Q7UcIi7KuUC6",
        "outputId": "f003ed2c-9b20-4b06-f97d-e5164fb03e48"
      },
      "execution_count": 31,
      "outputs": [
        {
          "output_type": "execute_result",
          "data": {
            "text/plain": [
              "array([[1, 1, 1, 1],\n",
              "       [1, 1, 1, 1],\n",
              "       [1, 1, 1, 1],\n",
              "       [1, 1, 1, 1]])"
            ]
          },
          "metadata": {},
          "execution_count": 31
        }
      ]
    },
    {
      "cell_type": "markdown",
      "source": [
        "8) 8x8 formatında bir birim matris oluşturun. (Sadece sol köşegeni 1 geri kalan değerleri 0 olan matris'e birim matris deniyor.) (dtype'ı int olsun)"
      ],
      "metadata": {
        "id": "H6Q6D23fueXe"
      }
    },
    {
      "cell_type": "code",
      "source": [
        "np.eye(8, dtype=int)"
      ],
      "metadata": {
        "colab": {
          "base_uri": "https://localhost:8080/"
        },
        "id": "fs9uiCf8uiPZ",
        "outputId": "831e3289-a67c-454b-8052-234cc634656a"
      },
      "execution_count": 32,
      "outputs": [
        {
          "output_type": "execute_result",
          "data": {
            "text/plain": [
              "array([[1, 0, 0, 0, 0, 0, 0, 0],\n",
              "       [0, 1, 0, 0, 0, 0, 0, 0],\n",
              "       [0, 0, 1, 0, 0, 0, 0, 0],\n",
              "       [0, 0, 0, 1, 0, 0, 0, 0],\n",
              "       [0, 0, 0, 0, 1, 0, 0, 0],\n",
              "       [0, 0, 0, 0, 0, 1, 0, 0],\n",
              "       [0, 0, 0, 0, 0, 0, 1, 0],\n",
              "       [0, 0, 0, 0, 0, 0, 0, 1]])"
            ]
          },
          "metadata": {},
          "execution_count": 32
        }
      ]
    },
    {
      "cell_type": "markdown",
      "source": [
        "9) 5x5 formatında bir köşegen matrisi oluşturun (Sadece sol üstten sağ alta doğru olan köşegendeki değerleri 3 olsun diğer bütün değerleri 0) (Bunu henüz görmediniz ama birim matrise benziyor, sadece köşegen değerleri 1 değil 3 olacak. Bir şeyler düşünün)"
      ],
      "metadata": {
        "id": "3Wc5JPMvuusL"
      }
    },
    {
      "cell_type": "code",
      "source": [
        "ars3 = np.eye(5, dtype=int)\n",
        "ars3 *=3\n",
        "print(ars3)"
      ],
      "metadata": {
        "colab": {
          "base_uri": "https://localhost:8080/"
        },
        "id": "OdiZUisIu2bY",
        "outputId": "511a8786-1581-459c-fcf9-ec41c920a952"
      },
      "execution_count": 73,
      "outputs": [
        {
          "output_type": "stream",
          "name": "stdout",
          "text": [
            "[[3 0 0 0 0]\n",
            " [0 3 0 0 0]\n",
            " [0 0 3 0 0]\n",
            " [0 0 0 3 0]\n",
            " [0 0 0 0 3]]\n"
          ]
        }
      ]
    },
    {
      "cell_type": "markdown",
      "source": [
        "10) np.random modülünden uygun fonksiyonu kullanarak 0-1 arasında toplam 6 tane değerden oluşan 1 boyutlu bir array oluşturun."
      ],
      "metadata": {
        "id": "DdqLRX-UytU8"
      }
    },
    {
      "cell_type": "code",
      "source": [
        "np.random.rand(6)"
      ],
      "metadata": {
        "colab": {
          "base_uri": "https://localhost:8080/"
        },
        "id": "fphvXp4jzTRh",
        "outputId": "2e13e335-80f8-4d4e-b7cb-c772895a7e97"
      },
      "execution_count": 51,
      "outputs": [
        {
          "output_type": "execute_result",
          "data": {
            "text/plain": [
              "array([0.86069269, 0.47678909, 0.60113765, 0.6320162 , 0.75939113,\n",
              "       0.29814476])"
            ]
          },
          "metadata": {},
          "execution_count": 51
        }
      ]
    },
    {
      "cell_type": "markdown",
      "source": [
        "11) np.random modülünden uygun fonksiyonu kullanarak 50-100 arasındaki(50 ve 100 dahil) tam sayılardan 10 tanesiyle oluşan (5,2) shape'inde bir array oluşturun. Ardından bu arrayin shape'ini kontrol edin."
      ],
      "metadata": {
        "id": "gkm8Uhunzw9m"
      }
    },
    {
      "cell_type": "code",
      "source": [
        "np.random.randint(50,101,(5,2))"
      ],
      "metadata": {
        "colab": {
          "base_uri": "https://localhost:8080/"
        },
        "id": "T98XNE0lz0xA",
        "outputId": "d5ef5530-bcbc-4af1-c978-c6e3761e587f"
      },
      "execution_count": 54,
      "outputs": [
        {
          "output_type": "execute_result",
          "data": {
            "text/plain": [
              "array([[75, 67],\n",
              "       [74, 51],\n",
              "       [68, 87],\n",
              "       [71, 98],\n",
              "       [95, 90]])"
            ]
          },
          "metadata": {},
          "execution_count": 54
        }
      ]
    },
    {
      "cell_type": "markdown",
      "source": [
        "\n",
        "12) np.random modülünden uygun fonksiyonu kullanarak 100-1000(1000 dahil değil) arasındaki tam sayılardan rastgele 50 tanesinden oluşan (2,5,5) shape'inde 3 boyutlu bir array oluşturun. Ardından bu array'in dimension'ını(boyutunu) ve shape'ini kontrol edin."
      ],
      "metadata": {
        "id": "7nvWjLj9zdnX"
      }
    },
    {
      "cell_type": "code",
      "source": [
        "ar1 = np.random.randint(100,1000,(2,5,5))\n",
        "ar1.ndim\n",
        "ar1.shape"
      ],
      "metadata": {
        "colab": {
          "base_uri": "https://localhost:8080/"
        },
        "id": "v9cSWFvK1iDy",
        "outputId": "4c8c42ea-e45e-4c3a-83ae-93f30c5b4c85"
      },
      "execution_count": 57,
      "outputs": [
        {
          "output_type": "execute_result",
          "data": {
            "text/plain": [
              "(2, 5, 5)"
            ]
          },
          "metadata": {},
          "execution_count": 57
        }
      ]
    },
    {
      "cell_type": "markdown",
      "source": [
        "13) np.random modülünden uygun fonksiyonu kullanarak 0-100(0 ve 100 dahil) arasındaki tam sayılardan 10 tane seçerek bir array oluşturun. Bu array'in maximum, mininmum değerlerine ve bu değerlerin indexlerine bakın.\n"
      ],
      "metadata": {
        "id": "jqz2Jjwi19Mm"
      }
    },
    {
      "cell_type": "code",
      "source": [
        "ar2 = np.random.randint(0,100,10)\n",
        "print(ar2)\n",
        "print(ar2.max())\n",
        "print(ar2.min())"
      ],
      "metadata": {
        "colab": {
          "base_uri": "https://localhost:8080/"
        },
        "id": "783OaYXa2ORd",
        "outputId": "f8820d5d-7c85-41a3-cf34-487ee7d51624"
      },
      "execution_count": 63,
      "outputs": [
        {
          "output_type": "stream",
          "name": "stdout",
          "text": [
            "[40 49 77 99  3 78 26 64  0 31]\n",
            "99\n",
            "0\n"
          ]
        }
      ]
    },
    {
      "cell_type": "markdown",
      "source": [
        "14) np.random modülünden uygun fonksiyonu kullanarak 300-500(300 ve 500 dahil) arasındaki tam sayılardan 20 tane seçerek (2,2,5) shape'inde 3 boyutlu bir array oluşturun. Ardından bu array'in içindeki 20 tam sayı arasından maximum ve minimum değerleri manuel olarak tespit edin ve indexleme yaparak çekmeye çalışın.\n"
      ],
      "metadata": {
        "id": "zqZczp_r2IYB"
      }
    },
    {
      "cell_type": "code",
      "source": [
        "ar3 = np.random.randint(300,501, (2,5,5))\n"
      ],
      "metadata": {
        "colab": {
          "base_uri": "https://localhost:8080/"
        },
        "id": "aAP10yJs3Oyt",
        "outputId": "6cf535db-8adc-4853-a8b2-eaad4539d695"
      },
      "execution_count": 67,
      "outputs": [
        {
          "output_type": "execute_result",
          "data": {
            "text/plain": [
              "array([[[405, 358, 462, 312, 425],\n",
              "        [313, 488, 320, 429, 463],\n",
              "        [305, 392, 346, 308, 458],\n",
              "        [362, 301, 318, 365, 369],\n",
              "        [425, 422, 393, 374, 472]],\n",
              "\n",
              "       [[461, 467, 494, 496, 311],\n",
              "        [350, 461, 401, 483, 392],\n",
              "        [335, 306, 392, 307, 415],\n",
              "        [397, 433, 477, 319, 484],\n",
              "        [370, 414, 337, 396, 400]]])"
            ]
          },
          "metadata": {},
          "execution_count": 67
        }
      ]
    },
    {
      "cell_type": "code",
      "source": [
        "ar3[0][1][1]"
      ],
      "metadata": {
        "colab": {
          "base_uri": "https://localhost:8080/"
        },
        "id": "JT72zWu85Wdy",
        "outputId": "b1228665-c986-479d-f5a7-63c9d5542b03"
      },
      "execution_count": 68,
      "outputs": [
        {
          "output_type": "execute_result",
          "data": {
            "text/plain": [
              "488"
            ]
          },
          "metadata": {},
          "execution_count": 68
        }
      ]
    },
    {
      "cell_type": "markdown",
      "source": [
        "15) 0-50(50 dahil) arasındaki ardışık tam sayılardan oluşan bir array oluşturun. Ardından bu arrayin 20. ve 35. indexleri arasındaki değerleri 500'e eşitleyin ve yeni oluşan array'i ekrana yazdırarak broadcasting işleminin yapılıp yapılmadığını test edin."
      ],
      "metadata": {
        "id": "mvcCvMnm2McI"
      }
    },
    {
      "cell_type": "code",
      "source": [
        "ar4 = np.arange(0,51)\n",
        "ar4[20:35] = 500\n",
        "print(ar4)"
      ],
      "metadata": {
        "colab": {
          "base_uri": "https://localhost:8080/"
        },
        "id": "EC3kggnE5b_4",
        "outputId": "b135f2fc-e3cf-4341-f04b-4a088d519082"
      },
      "execution_count": 72,
      "outputs": [
        {
          "output_type": "stream",
          "name": "stdout",
          "text": [
            "[  0   1   2   3   4   5   6   7   8   9  10  11  12  13  14  15  16  17\n",
            "  18  19 500 500 500 500 500 500 500 500 500 500 500 500 500 500 500  35\n",
            "  36  37  38  39  40  41  42  43  44  45  46  47  48  49  50]\n"
          ]
        }
      ]
    }
  ]
}