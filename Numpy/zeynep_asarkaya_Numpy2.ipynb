{
  "nbformat": 4,
  "nbformat_minor": 0,
  "metadata": {
    "colab": {
      "provenance": []
    },
    "kernelspec": {
      "name": "python3",
      "display_name": "Python 3"
    },
    "language_info": {
      "name": "python"
    }
  },
  "cells": [
    {
      "cell_type": "markdown",
      "source": [
        "1) 0-29 arası(29 dahil, toplam 30 tam sayı) tam sayılardan oluşan bir boyutlu bir array oluşturun ardından bu array'in shape'ini (15,2) şeklinde güncelleyip 2 boyutlu hale getirin.\n",
        "2) 60 adet rastgele tam sayı verilerinden oluşan bir boyutlu bir array oluşturun. Devamında bu array'i istediğiniz shapelerde 3 boyutlu hale getirin ve son durumda oluşan array'in boyutunu ve shape'ini kontrol edin.\n",
        "3) 20 elemanlı ve sadece rakamlardan oluşan iki boyutlu bir array oluşturun. Ardından bu array'i düzleştirin ve tek boyutlu hale getirin ve son durumda oluşan array'in boyutunu ve shape'ini kontrol edin.\n",
        "4) İstediğiniz herhangi elemanlardan oluşan 2 Boyutlu bir array oluşturun. Oluşturduğunuz bu 2 boyutlu array'in içindeki bütün elemanları hem yavaş yol olan for döngüsüyle hem de daha hızlı yol olan uygun NumPy metoduyla tek tek dönerek ekrana yazdırın.\n",
        "5) 5,10,15,20,25,30 değerlerinden oluşan bir boyutlu bir array ve\n",
        "   1,2,3,4,5,6 değerlerinden oluşan başka bir boyutlu bir array oluşturun.\n",
        "   Bu arraylerinin elemanlarına kendi aralarında 4 işlem uygulayın. İki arrayinde 1.indexindekiler toplansın/çıkartılsın/çarpılsın/bölünsün gibi.\n",
        "6) 0-100 arası rastgele 10 tam sayıdan oluşan bir array oluşturun ve oluşturulan arrayin sum/mean/max/var/std değerlerini inceleyin.\n",
        "7) 0-20 arası(20 dahil değil) tam sayılardan oluşan ve 500-530(530 dahil) arası tam sayılardan oluşan 2 array oluşturun. Ardından bu iki array'i concatenate ederek ekrana yazdırın.\n",
        "8) 15-50(50 dahil) arası tam sayılardan oluşan bir array oluşturun. Daha sonra 10-100 arası(100 dahil) tam sayılardan oluşan 2.bir array oluşturun. Bu 2 arrayi concatanate ederek 3.bir array oluşturun ve bu array'in 25.index ile 50.index'i(50 dahil) arasındaki değerlerini 888 yapın.\n",
        "9) 0-40(40 dahil değil) arası değerlerden oluşan (8,5) shape'inde 2 boyutlu bir array ve  320-360(360 dahil değil) değerlerinden oluşan (8,5) shape'inde 2 boyutlubaşka bir array oluşturun. Devamında bu iki array'i hem axis = 0'da hem de axis = 1'de concatenate ederek farkı karşılaştırın.\n",
        "10) 9.Soruda oluşturduğunuz 2 array'i axis = 2'de concatenate etmeye çalışın. Ardından axis = 2'de stacklemeye(yığınlamaya) çalışın. İkisi arasındaki farkı karşılaştırın.\n",
        "11) [1, 20, 25, 4, 4, 5, 4, 4, 1, 6, 9, 12, 1, 5] değerlerinden oluşan bir boyutlu bir array oluşturun. Devamında bu array'in içinde değeri 5'e eşit olan değerlerin indexleri bulun.\n",
        "12) Yukarıda oluşturduğunuz array içinde değeri çift olan değerlerin indexlerini bulun.\n",
        "13) Yukarıda oluşturduğunuz array içinde değeri 4'den büyük olan değerlerin indexlerini bulun.\n",
        "14) Yukarıda oluşturduğunuz array içinde değeri 5'e tam bölünen değerlerin indexlerini bulun.\n",
        "15) 85-100(100 dahil) arasından rastgele 1 tam sayı seçin\n",
        "16) İki basamaklı tam sayılar arasından rastgele sayılar seçerek (3,3) shape'inde bir array oluşturun.\n",
        "17) 35-60 arasındaki tam sayılardan bir array oluşturun, ardından bu array içinden rastgele 1 tam sayı seçin.\n",
        "18) Sadece [3, 8, 10, 53] değerlerinden oluşan (2,5) shape'inde 2 boyutlu bir array oluşturun."
      ],
      "metadata": {
        "id": "AdSWaOQuwu0o"
      }
    },
    {
      "cell_type": "code",
      "execution_count": 2,
      "metadata": {
        "id": "LF88G1KNwoeF"
      },
      "outputs": [],
      "source": [
        "import numpy as np"
      ]
    },
    {
      "cell_type": "code",
      "source": [
        "#1\n",
        "ar1 = np.arange(30) \n",
        "ar1.reshape(15,2)\n"
      ],
      "metadata": {
        "colab": {
          "base_uri": "https://localhost:8080/"
        },
        "id": "9rHUxSqzxOxe",
        "outputId": "28ade0ad-1818-4a95-f414-aa0b6a76b190"
      },
      "execution_count": null,
      "outputs": [
        {
          "output_type": "execute_result",
          "data": {
            "text/plain": [
              "array([[ 0,  1],\n",
              "       [ 2,  3],\n",
              "       [ 4,  5],\n",
              "       [ 6,  7],\n",
              "       [ 8,  9],\n",
              "       [10, 11],\n",
              "       [12, 13],\n",
              "       [14, 15],\n",
              "       [16, 17],\n",
              "       [18, 19],\n",
              "       [20, 21],\n",
              "       [22, 23],\n",
              "       [24, 25],\n",
              "       [26, 27],\n",
              "       [28, 29]])"
            ]
          },
          "metadata": {},
          "execution_count": 7
        }
      ]
    },
    {
      "cell_type": "code",
      "source": [
        "#2\n",
        "ar2 = np.random.randint(0,100,60)\n",
        "ar2.reshape(2,5,-1)"
      ],
      "metadata": {
        "colab": {
          "base_uri": "https://localhost:8080/"
        },
        "id": "-nQUOFlU1HND",
        "outputId": "2506f8ca-6d27-4620-ea49-375bd6875e77"
      },
      "execution_count": null,
      "outputs": [
        {
          "output_type": "execute_result",
          "data": {
            "text/plain": [
              "array([[[49, 71, 59, 25, 44, 51],\n",
              "        [28, 27, 81, 57, 86, 41],\n",
              "        [35, 50,  9, 43, 66, 88],\n",
              "        [91, 56, 95, 53, 46, 35],\n",
              "        [98, 14, 41, 89, 21, 34]],\n",
              "\n",
              "       [[11,  5, 21, 14, 34, 84],\n",
              "        [39, 57, 54, 41, 83, 74],\n",
              "        [91, 97, 98, 99,  3, 37],\n",
              "        [ 9, 43, 88, 63, 35, 27],\n",
              "        [45, 75, 92, 15, 43, 65]]])"
            ]
          },
          "metadata": {},
          "execution_count": 22
        }
      ]
    },
    {
      "cell_type": "code",
      "source": [
        "ar2.ndim"
      ],
      "metadata": {
        "colab": {
          "base_uri": "https://localhost:8080/"
        },
        "id": "klED39tr179f",
        "outputId": "1e0fa5d8-2ec4-43fa-f9f5-1960d9f99655"
      },
      "execution_count": null,
      "outputs": [
        {
          "output_type": "execute_result",
          "data": {
            "text/plain": [
              "1"
            ]
          },
          "metadata": {},
          "execution_count": 23
        }
      ]
    },
    {
      "cell_type": "code",
      "source": [
        "#3\n",
        "ar3 =np.array([[1,2,3],[4,5,6],[7,8,9]])\n",
        "ar3.reshape(-1)"
      ],
      "metadata": {
        "colab": {
          "base_uri": "https://localhost:8080/"
        },
        "id": "DvxBldRF3ATP",
        "outputId": "2da6ac36-4607-445f-ed82-b89e238232d9"
      },
      "execution_count": null,
      "outputs": [
        {
          "output_type": "execute_result",
          "data": {
            "text/plain": [
              "array([1, 2, 3, 4, 5, 6, 7, 8, 9])"
            ]
          },
          "metadata": {},
          "execution_count": 31
        }
      ]
    },
    {
      "cell_type": "code",
      "source": [
        "#4\n",
        "ar4 = np.arange(20).reshape(5,4)\n",
        "for i in ar4:\n",
        "  for x in i:\n",
        "    print(x)\n",
        "\n",
        "for z in np.nditer(ar4):\n",
        "  print(z)"
      ],
      "metadata": {
        "colab": {
          "base_uri": "https://localhost:8080/"
        },
        "id": "ubrTr5x36ABo",
        "outputId": "b999bf45-0a9e-406c-e74b-2b1f2f47f68f"
      },
      "execution_count": null,
      "outputs": [
        {
          "output_type": "stream",
          "name": "stdout",
          "text": [
            "0\n",
            "1\n",
            "2\n",
            "3\n",
            "4\n",
            "5\n",
            "6\n",
            "7\n",
            "8\n",
            "9\n",
            "10\n",
            "11\n",
            "12\n",
            "13\n",
            "14\n",
            "15\n",
            "16\n",
            "17\n",
            "18\n",
            "19\n"
          ]
        }
      ]
    },
    {
      "cell_type": "code",
      "source": [
        "#5\n",
        "ar5 = np.array([5,10,15,20,25])\n",
        "ar55 = np.array([1,2,3,4,5])\n",
        "ar5top = ar5 + ar55\n",
        "ar5c = ar5 - ar55\n",
        "ar5cap = ar5 * ar55\n",
        "ar5b = ar5 / ar55\n",
        "print(ar5top)\n",
        "print(ar5c)\n",
        "print(ar5cap)\n",
        "print(ar5b)"
      ],
      "metadata": {
        "colab": {
          "base_uri": "https://localhost:8080/"
        },
        "id": "c-FBFZ-67i54",
        "outputId": "c9f96397-237a-4b78-a9ce-2aa54c06d084"
      },
      "execution_count": null,
      "outputs": [
        {
          "output_type": "stream",
          "name": "stdout",
          "text": [
            "[ 6 12 18 24 30]\n",
            "[ 4  8 12 16 20]\n",
            "[  5  20  45  80 125]\n",
            "[5. 5. 5. 5. 5.]\n"
          ]
        }
      ]
    },
    {
      "cell_type": "code",
      "source": [
        "#6\n",
        "ar6 = np.random.randint(0,100,10)\n",
        "print(ar6)\n",
        "print(ar6.sum())\n",
        "print(ar6.mean())\n",
        "print(ar6.std())"
      ],
      "metadata": {
        "colab": {
          "base_uri": "https://localhost:8080/"
        },
        "id": "1l4cdffW9ATV",
        "outputId": "2b7c12de-c521-448e-f06a-e50167851ef8"
      },
      "execution_count": null,
      "outputs": [
        {
          "output_type": "stream",
          "name": "stdout",
          "text": [
            "[77 40 60 41  7 11 68 92 81 83]\n",
            "560\n",
            "56.0\n",
            "28.56221279943135\n"
          ]
        }
      ]
    },
    {
      "cell_type": "code",
      "source": [
        "#7\n",
        "ar7 = np.arange(21)\n",
        "ar77 = np.arange(500,531)\n",
        "np.concatenate([ar7,ar77] , axis = 0 )"
      ],
      "metadata": {
        "colab": {
          "base_uri": "https://localhost:8080/"
        },
        "id": "gq4sP3KsAjoM",
        "outputId": "7e6466a1-bb10-42a0-c7e6-abff404135ae"
      },
      "execution_count": null,
      "outputs": [
        {
          "output_type": "execute_result",
          "data": {
            "text/plain": [
              "array([  0,   1,   2,   3,   4,   5,   6,   7,   8,   9,  10,  11,  12,\n",
              "        13,  14,  15,  16,  17,  18,  19,  20, 500, 501, 502, 503, 504,\n",
              "       505, 506, 507, 508, 509, 510, 511, 512, 513, 514, 515, 516, 517,\n",
              "       518, 519, 520, 521, 522, 523, 524, 525, 526, 527, 528, 529, 530])"
            ]
          },
          "metadata": {},
          "execution_count": 54
        }
      ]
    },
    {
      "cell_type": "code",
      "source": [
        "#8 15-50(50 dahil) arası tam sayılardan oluşan bir array oluşturun. Daha sonra 10-100 arası(100 dahil) tam sayılardan oluşan 2.bir array oluşturun. Bu 2 arrayi concatanate ederek 3.bir array oluşturun ve bu array'in 25.index ile 50.index'i(50 dahil) arasındaki değerlerini 888 yapın\n",
        "ar8 = np.arange(15,51)\n",
        "ar88 = np.arange(10,101)\n",
        "ar8con = np.concatenate([ar8,ar88], axis = 0)\n",
        "ar8con[25:51] = 888\n",
        "print(ar8con)"
      ],
      "metadata": {
        "colab": {
          "base_uri": "https://localhost:8080/"
        },
        "id": "rHzdtJeZBaQe",
        "outputId": "0cd03ab4-8bae-4045-e5f9-88ff6cf985d9"
      },
      "execution_count": null,
      "outputs": [
        {
          "output_type": "stream",
          "name": "stdout",
          "text": [
            "[ 15  16  17  18  19  20  21  22  23  24  25  26  27  28  29  30  31  32\n",
            "  33  34  35  36  37  38  39 888 888 888 888 888 888 888 888 888 888 888\n",
            " 888 888 888 888 888 888 888 888 888 888 888 888 888 888 888  25  26  27\n",
            "  28  29  30  31  32  33  34  35  36  37  38  39  40  41  42  43  44  45\n",
            "  46  47  48  49  50  51  52  53  54  55  56  57  58  59  60  61  62  63\n",
            "  64  65  66  67  68  69  70  71  72  73  74  75  76  77  78  79  80  81\n",
            "  82  83  84  85  86  87  88  89  90  91  92  93  94  95  96  97  98  99\n",
            " 100]\n"
          ]
        }
      ]
    },
    {
      "cell_type": "code",
      "source": [
        "#9 0-40(40 dahil değil) arası değerlerden oluşan (8,5) shape'inde 2 boyutlu bir array ve 320-360(360 dahil değil) değerlerinden oluşan (8,5) shape'inde 2 boyutlubaşka bir array oluşturun. Devamında bu iki array'i hem axis = 0'da hem de axis = 1'de concatenate ederek farkı karşılaştırın\n",
        "ar9 = np.arange(0,40).reshape(8,5)\n",
        "ar99 = np.arange(320,360).reshape(8,5)\n",
        "ar9con = np.concatenate([ar9,ar99], axis = 0)\n",
        "print(ar9con)\n",
        "ar9con1 = np.concatenate([ar9,ar99], axis = 1)\n",
        "print(ar9con1)"
      ],
      "metadata": {
        "colab": {
          "base_uri": "https://localhost:8080/"
        },
        "id": "G3uFkqJiD_RU",
        "outputId": "3ef56162-3300-442f-b016-6c9b692320cb"
      },
      "execution_count": null,
      "outputs": [
        {
          "output_type": "stream",
          "name": "stdout",
          "text": [
            "[[  0   1   2   3   4]\n",
            " [  5   6   7   8   9]\n",
            " [ 10  11  12  13  14]\n",
            " [ 15  16  17  18  19]\n",
            " [ 20  21  22  23  24]\n",
            " [ 25  26  27  28  29]\n",
            " [ 30  31  32  33  34]\n",
            " [ 35  36  37  38  39]\n",
            " [320 321 322 323 324]\n",
            " [325 326 327 328 329]\n",
            " [330 331 332 333 334]\n",
            " [335 336 337 338 339]\n",
            " [340 341 342 343 344]\n",
            " [345 346 347 348 349]\n",
            " [350 351 352 353 354]\n",
            " [355 356 357 358 359]]\n",
            "[[  0   1   2   3   4 320 321 322 323 324]\n",
            " [  5   6   7   8   9 325 326 327 328 329]\n",
            " [ 10  11  12  13  14 330 331 332 333 334]\n",
            " [ 15  16  17  18  19 335 336 337 338 339]\n",
            " [ 20  21  22  23  24 340 341 342 343 344]\n",
            " [ 25  26  27  28  29 345 346 347 348 349]\n",
            " [ 30  31  32  33  34 350 351 352 353 354]\n",
            " [ 35  36  37  38  39 355 356 357 358 359]]\n"
          ]
        }
      ]
    },
    {
      "cell_type": "code",
      "source": [
        "#10 9.Soruda oluşturduğunuz 2 array'i axis = 2'de concatenate etmeye çalışın. Ardından axis = 2'de stacklemeye(yığınlamaya) çalışın. İkisi arasındaki farkı karşılaştırın\n",
        "ar10 = np.arange(0,40).reshape(8,5)\n",
        "ar100 = np.arange(320,360).reshape(8,5)\n",
        "ar10con = np.concatenate([ar10,ar100], axis = 1)\n",
        "print(ar10con)\n",
        "\n",
        "arstac= np.stack([ar10,ar100] , axis = 1)\n",
        "print(arstac)\n"
      ],
      "metadata": {
        "id": "tuaxPcW0FOj6",
        "colab": {
          "base_uri": "https://localhost:8080/"
        },
        "outputId": "3c00df89-efaf-4c18-cf73-92fd626ab0c1"
      },
      "execution_count": 7,
      "outputs": [
        {
          "output_type": "stream",
          "name": "stdout",
          "text": [
            "[[  0   1   2   3   4 320 321 322 323 324]\n",
            " [  5   6   7   8   9 325 326 327 328 329]\n",
            " [ 10  11  12  13  14 330 331 332 333 334]\n",
            " [ 15  16  17  18  19 335 336 337 338 339]\n",
            " [ 20  21  22  23  24 340 341 342 343 344]\n",
            " [ 25  26  27  28  29 345 346 347 348 349]\n",
            " [ 30  31  32  33  34 350 351 352 353 354]\n",
            " [ 35  36  37  38  39 355 356 357 358 359]]\n",
            "[[[  0   1   2   3   4]\n",
            "  [320 321 322 323 324]]\n",
            "\n",
            " [[  5   6   7   8   9]\n",
            "  [325 326 327 328 329]]\n",
            "\n",
            " [[ 10  11  12  13  14]\n",
            "  [330 331 332 333 334]]\n",
            "\n",
            " [[ 15  16  17  18  19]\n",
            "  [335 336 337 338 339]]\n",
            "\n",
            " [[ 20  21  22  23  24]\n",
            "  [340 341 342 343 344]]\n",
            "\n",
            " [[ 25  26  27  28  29]\n",
            "  [345 346 347 348 349]]\n",
            "\n",
            " [[ 30  31  32  33  34]\n",
            "  [350 351 352 353 354]]\n",
            "\n",
            " [[ 35  36  37  38  39]\n",
            "  [355 356 357 358 359]]]\n"
          ]
        }
      ]
    },
    {
      "cell_type": "code",
      "source": [
        "#11 [1, 20, 25, 4, 4, 5, 4, 4, 1, 6, 9, 12, 1, 5] değerlerinden oluşan bir boyutlu bir array oluşturun. Devamında bu array'in içinde değeri 5'e eşit olan değerlerin indexleri bulun.\n",
        "\n",
        "ar11 = np.array([1, 20, 25, 4, 4, 5, 4, 4, 1, 6, 9, 12, 1, 5])\n",
        "np.where(ar11 == 5)\n"
      ],
      "metadata": {
        "colab": {
          "base_uri": "https://localhost:8080/"
        },
        "id": "klJemFcsKgk9",
        "outputId": "d7d28033-ef69-4f7f-97e8-4c7c80e52562"
      },
      "execution_count": 8,
      "outputs": [
        {
          "output_type": "execute_result",
          "data": {
            "text/plain": [
              "(array([ 5, 13]),)"
            ]
          },
          "metadata": {},
          "execution_count": 8
        }
      ]
    },
    {
      "cell_type": "code",
      "source": [
        "#12) Yukarıda oluşturduğunuz array içinde değeri çift olan değerlerin indexlerini bulun.\n",
        "ar12 = np.array([1, 20, 25, 4, 4, 5, 4, 4, 1, 6, 9, 12, 1, 5])\n",
        "np.where(ar12 % 2 == 0)"
      ],
      "metadata": {
        "colab": {
          "base_uri": "https://localhost:8080/"
        },
        "id": "m9iFpC7XLL3z",
        "outputId": "038420b8-4823-4eb6-90af-3e1e3afcdb57"
      },
      "execution_count": 10,
      "outputs": [
        {
          "output_type": "execute_result",
          "data": {
            "text/plain": [
              "(array([ 1,  3,  4,  6,  7,  9, 11]),)"
            ]
          },
          "metadata": {},
          "execution_count": 10
        }
      ]
    },
    {
      "cell_type": "code",
      "source": [
        "#13)Yukarıda oluşturduğunuz array içinde değeri 4'den büyük olan değerlerin indexlerini bulun.\n",
        "ar13 = np.array([1, 20, 25, 4, 4, 5, 4, 4, 1, 6, 9, 12, 1, 5])\n",
        "np.where(ar13 > 4)"
      ],
      "metadata": {
        "colab": {
          "base_uri": "https://localhost:8080/"
        },
        "id": "nQblTF6lL3WE",
        "outputId": "66a46149-395d-4136-ca7c-0b8c2c2f9996"
      },
      "execution_count": 11,
      "outputs": [
        {
          "output_type": "execute_result",
          "data": {
            "text/plain": [
              "(array([ 1,  2,  5,  9, 10, 11, 13]),)"
            ]
          },
          "metadata": {},
          "execution_count": 11
        }
      ]
    },
    {
      "cell_type": "code",
      "source": [
        "#14)Yukarıda oluşturduğunuz array içinde değeri 5'e tam bölünen değerlerin indexlerini bulun.\n",
        "ar14 = np.array([1, 20, 25, 4, 4, 5, 4, 4, 1, 6, 9, 12, 1, 5])\n",
        "np.where(ar14 % 5 == 0)"
      ],
      "metadata": {
        "colab": {
          "base_uri": "https://localhost:8080/"
        },
        "id": "wyHlyV8iMRor",
        "outputId": "d39ccf2e-714d-44ff-c6cf-5f732df78c73"
      },
      "execution_count": 13,
      "outputs": [
        {
          "output_type": "execute_result",
          "data": {
            "text/plain": [
              "(array([ 1,  2,  5, 13]),)"
            ]
          },
          "metadata": {},
          "execution_count": 13
        }
      ]
    },
    {
      "cell_type": "code",
      "source": [
        "#15) 85-100(100 dahil) arasından rastgele 1 tam sayı seçin\n",
        "np.random.randint(85,101)"
      ],
      "metadata": {
        "colab": {
          "base_uri": "https://localhost:8080/"
        },
        "id": "mw9vzSDZMu9R",
        "outputId": "ffa95ed1-3dfc-41a7-956a-00774c15a00a"
      },
      "execution_count": 15,
      "outputs": [
        {
          "output_type": "execute_result",
          "data": {
            "text/plain": [
              "88"
            ]
          },
          "metadata": {},
          "execution_count": 15
        }
      ]
    },
    {
      "cell_type": "code",
      "source": [
        "#16 İki basamaklı tam sayılar arasından rastgele sayılar seçerek (3,3) shape'inde bir array oluşturun. \n",
        "np.random.randint(10,99,9).reshape(3,3)"
      ],
      "metadata": {
        "colab": {
          "base_uri": "https://localhost:8080/"
        },
        "id": "lZXQi3GNNEEW",
        "outputId": "fdda12bb-f5d2-4123-bc99-6ab2a9921b80"
      },
      "execution_count": 17,
      "outputs": [
        {
          "output_type": "execute_result",
          "data": {
            "text/plain": [
              "array([[12, 51, 52],\n",
              "       [27, 77, 57],\n",
              "       [61, 82, 50]])"
            ]
          },
          "metadata": {},
          "execution_count": 17
        }
      ]
    },
    {
      "cell_type": "code",
      "source": [
        "#17) 35-60 arasındaki tam sayılardan bir array oluşturun, ardından bu array içinden rastgele 1 tam sayı seçin.\n",
        "ar17 = np.random.randint(35,60,10)\n",
        "print(ar17)\n",
        "np.random.choice(ar17)"
      ],
      "metadata": {
        "colab": {
          "base_uri": "https://localhost:8080/"
        },
        "id": "LmoX6Ha0NfZH",
        "outputId": "63f02f05-14e9-4bac-9824-05b5eadc5be6"
      },
      "execution_count": 19,
      "outputs": [
        {
          "output_type": "stream",
          "name": "stdout",
          "text": [
            "[50 45 54 44 49 49 43 44 35 49]\n"
          ]
        },
        {
          "output_type": "execute_result",
          "data": {
            "text/plain": [
              "54"
            ]
          },
          "metadata": {},
          "execution_count": 19
        }
      ]
    },
    {
      "cell_type": "code",
      "source": [
        "#18 sadece [3, 8, 10, 53] değerlerinden oluşan (2,5) shape'inde 2 boyutlu bir array oluşturun.\n",
        "np.array([3, 8, 10, 53,0,0,0,0,0,0]).reshape(2,5)"
      ],
      "metadata": {
        "colab": {
          "base_uri": "https://localhost:8080/"
        },
        "id": "HbTNv8axOEBt",
        "outputId": "6536afa3-ecba-46d5-8528-ad611680f039"
      },
      "execution_count": 22,
      "outputs": [
        {
          "output_type": "execute_result",
          "data": {
            "text/plain": [
              "array([[ 3,  8, 10, 53,  0],\n",
              "       [ 0,  0,  0,  0,  0]])"
            ]
          },
          "metadata": {},
          "execution_count": 22
        }
      ]
    }
  ]
}